{
 "cells": [
  {
   "cell_type": "markdown",
   "metadata": {
    "id": "KdHI8a1S9iUn"
   },
   "source": [
    "# ORIE 4580/5580/5581 Assignment 3\n",
    "\n",
    "#### Students: Maddi Klancher (mrk256) and Sofia Paredes (smp343)\n",
    "\n",
    "### Github link: [example Github link](https://github.com/SidBanerjee/ORIE4580-Simulation/blob/main/Notebooks/Unit0-Intro_Demos.ipynb)\n"
   ]
  },
  {
   "cell_type": "markdown",
   "metadata": {
    "id": "SWIW16cwI0bB"
   },
   "source": [
    "### Instructions\n",
    "\n",
    "\n",
    "* Due Friday September 22, at 11.59am on Gradescope.\n",
    "* Assignment .ipynb files available for download on [Canvas](https://canvas.cornell.edu/courses/56826#:~:text=Assignments-,Assignments,-Assignments%20Module%20publish). Do all your work in provided notebook (text answers typeset in markdown; show all required code and generate plots inline), and then generate and submit a pdf.\n",
    "* Ideally do assignments in groups of 2, and submit a single pdf with both names\n",
    "* Please show your work and clearly mark your answers.\n",
    "* You can use any code fragments given in class, found online (for example, on StackOverflow), or generated via Bard or ChatGPT (you are encouraged to use these for first drafts) **with proper referencing**. You can also discuss with others (again, please reference them if you do so); but you must write your final answers on your own as a team.\n",
    "\n",
    "\n",
    "\n",
    "### Suggested reading\n",
    "\n",
    "Chapters 7 (you can skim through this), and chapters 8 and 9 of [Introduction to Probability](https://chance.dartmouth.edu/teaching_aids/books_articles/probability_book/book.html) by Grinstead and Snell.\n",
    "\n",
    "Chapter 3 and chapter 4 (up to section 4.5) of [Simulation by Ross](https://catalog.library.cornell.edu/catalog/12745977)."
   ]
  },
  {
   "cell_type": "code",
   "execution_count": 8,
   "metadata": {
    "id": "upFYbOmHI4Uv"
   },
   "outputs": [],
   "source": [
    "#importing necessary packages\n",
    "import numpy as np\n",
    "import matplotlib.pyplot as plt\n",
    "import scipy.stats\n",
    "%matplotlib inline\n",
    "import math"
   ]
  },
  {
   "cell_type": "markdown",
   "metadata": {
    "id": "lAy475sN9iUs"
   },
   "source": [
    "___\n",
    "___\n",
    "\n",
    "## Question 1: Combining LCGs (20 points)\n",
    "\n",
    "In order to avoid biases, simulations should not use anywhere near the full period of an LCG (otherwise, the random sequence repeats\\ldots). For example, a typical traffic simulator may have $10,000$ vehicles, each experiencing thousands of random disturbances, thus needing around $10^7$ random samples per replication -- for this, an LCG using $m=2^{31}-1\\approx 2\\times 10^9$ is insufficient, as after $100$ replications the sequences get correlated.\n",
    "\n",
    "One method to combine multiple LCGs to obtain a generator with a longer period is to add a smaller period LCG to it. For example, suppose we have two generators $X_{n+1}  =  (a_1 X_n) \\mbox{ mod } m_1$ and $Y_{n+1}  =  (a_2 Y_n) \\mbox{ mod } m_2$, with $m_1>m_2$. We can derive a combined generator by setting $Z_n  =  (X_n + Y_n) \\mbox{ mod } m_1$. If properly designed, the resulting period can be on the order of $m_1m_2$. We will now study a small example to see how this works.\n"
   ]
  },
  {
   "cell_type": "markdown",
   "metadata": {
    "id": "-geWMEJp9iUt"
   },
   "source": [
    "___\n",
    "**(a)** Consider two LCGs, $x_{n+1} = (5 x_n) \\mod 16$ and $y_{n+1} = (2 y_n) \\mod 7$. Starting both with seed $x_0 = y_0 = 1$, plot the sequences $x_n, y_n$ using the clock visualization introduced in class (separate plot for each sequence; you can use and modify the code in Demo-PRNGs.ipynb on Canvas).\n",
    "___"
   ]
  },
  {
   "cell_type": "code",
   "execution_count": 2,
   "metadata": {
    "id": "5jsoc-t6D-Q7"
   },
   "outputs": [],
   "source": [
    "# Functions to visualize LCG sequence on clock (see demo notebook)\n",
    "\n",
    "def plot_clock_face(m, fig, annotate=False):\n",
    "    \"\"\"\n",
    "    Plot points on a unit circle representing the LCG sequence on a clock face.\n",
    "\n",
    "    Parameters:\n",
    "    m (int): The modulus value for the LCG sequence.\n",
    "    fig (matplotlib.figure.Figure): The figure object to draw on.\n",
    "    annotate (bool): Whether to annotate points with their index.\n",
    "\n",
    "    Returns:\n",
    "    None\n",
    "    \"\"\"\n",
    "    # Plot m points on the unit circle\n",
    "    for i in range(m):\n",
    "        theta = 2.0 * np.pi * i / m\n",
    "        plt.plot(np.sin(theta), np.cos(theta), 'rs', markersize = 10)\n",
    "        if annotate:\n",
    "            plt.annotate(str(i), (np.pi/2 - theta, 1.05), xycoords='polar')\n",
    "\n",
    "def plot_clock_path(m, x, fig, color='y'):\n",
    "    \"\"\"\n",
    "    Plot the path of an LCG sequence on a clock face.\n",
    "\n",
    "    Parameters:\n",
    "    m (int): The modulus value for the LCG sequence.\n",
    "    x (numpy.ndarray): The LCG sequence.\n",
    "    fig (matplotlib.figure.Figure): The figure object to draw on.\n",
    "    color (str): The color for the path.\n",
    "\n",
    "    Returns:\n",
    "    None\n",
    "    \"\"\"\n",
    "    # Plot the seed node\n",
    "    theta_0 = 2.0 * np.pi * (x[0] * (m + 1) - 1) / m\n",
    "    plt.plot(np.sin(theta_0), np.cos(theta_0), 'gs', markersize = 10)\n",
    "\n",
    "    # Plot the path of the LCG sequence\n",
    "    for i in range(len(x) - 1):\n",
    "        theta_start = 2.0 * np.pi * (x[i] * (m + 1) - 1) / m\n",
    "        theta_end = 2.0 * np.pi * (x[i + 1] * (m + 1) - 1) / m\n",
    "        x_start = np.sin(theta_start)\n",
    "        y_start = np.cos(theta_start)\n",
    "        del_x = np.sin(theta_end) - np.sin(theta_start)\n",
    "        del_y = np.cos(theta_end) - np.cos(theta_start)\n",
    "        if abs(del_x) > 0 or abs(del_y) > 0:\n",
    "            plt.arrow(x_start, y_start, del_x, del_y,\n",
    "                      length_includes_head=True, head_width=0.05, head_length=0.1, fc=color, ec=color)\n"
   ]
  },
  {
   "cell_type": "code",
   "execution_count": 3,
   "metadata": {
    "id": "GRvFbLtFEC16"
   },
   "outputs": [],
   "source": [
    "# Function to generate pseudorandom sequence using LCG\n",
    "# Set default parameters to glibc specifications (see demo notebook)\n",
    "\n",
    "def LCG(n, m=2**31-1, a=1103515245, c=12345, seed=1):\n",
    "    \"\"\"\n",
    "    Generate a pseudorandom sequence using a Linear Congruential Generator (LCG).\n",
    "\n",
    "    Parameters:\n",
    "    n (int): The number of pseudorandom numbers to generate.\n",
    "    m (int): The modulus value (default is 2^31-1, following glibc specifications).\n",
    "    a (int): The multiplier value (default is 1103515245, following glibc specifications).\n",
    "    c (int): The increment value (default is 12345, following glibc specifications).\n",
    "    seed (int): The initial seed value (default is 1).\n",
    "\n",
    "    Returns:\n",
    "    numpy.ndarray: An array of pseudorandom numbers in the range [0, 1).\n",
    "    \"\"\"\n",
    "    # Initialize an array to store the generated pseudorandom numbers\n",
    "    output = np.zeros(n)\n",
    "\n",
    "    x = seed\n",
    "    for i in range(n):\n",
    "        # Calculate the pseudorandom number and normalize it to [0, 1)\n",
    "        output[i] = (x + 1.0) % (m + 1.0)\n",
    "\n",
    "        # Update the LCG state using the specified parameters\n",
    "        x = (a * x + c) % m\n",
    "        \n",
    "    return output"
   ]
  },
  {
   "cell_type": "code",
   "execution_count": 4,
   "metadata": {
    "id": "b2hOTeOyEEkI"
   },
   "outputs": [
    {
     "data": {
      "image/png": "[encoded data removed]",
      "text/plain": [
       "<Figure size 500x500 with 1 Axes>"
      ]
     },
     "metadata": {},
     "output_type": "display_data"
    }
   ],
   "source": [
    "# Ans\n",
    "\n",
    "# x: x_n+1 = (5x_n) mod 16\n",
    "\n",
    "m = 16\n",
    "a = 5\n",
    "c = 0\n",
    "seed = 1\n",
    "\n",
    "fig = plt.figure(figsize=(5,5))\n",
    "x = LCG(n=m+1,m=m,a=a,c=c,seed = seed)\n",
    "\n",
    "plot_clock_face(m,fig,annotate = True)\n",
    "plot_clock_path(m,x,fig)\n",
    "#plt.axis('equal')\n",
    "plt.axis('off')\n",
    "plt.show()"
   ]
  },
  {
   "cell_type": "code",
   "execution_count": 5,
   "metadata": {},
   "outputs": [
    {
     "data": {
      "image/png": "[encoded data removed]",
      "text/plain": [
       "<Figure size 500x500 with 1 Axes>"
      ]
     },
     "metadata": {},
     "output_type": "display_data"
    }
   ],
   "source": [
    "# y: y_n+1 = (2y_n) mod 7\n",
    "\n",
    "m = 7\n",
    "a = 2\n",
    "c = 0\n",
    "seed = 1\n",
    "\n",
    "fig = plt.figure(figsize=(5,5))\n",
    "y = LCG(n=m+1,m=m,a=a,c=c,seed = seed)\n",
    "\n",
    "plot_clock_face(m,fig,annotate = True)\n",
    "plot_clock_path(m,y,fig)\n",
    "#plt.axis('equal')\n",
    "plt.axis('off')\n",
    "plt.show()"
   ]
  },
  {
   "cell_type": "markdown",
   "metadata": {
    "id": "FDfX7mQz9iUv"
   },
   "source": [
    "___\n",
    "**(b)** Next, define a combined LCG as $z_{n} = (x_n+y_n) \\mod 16$. Starting both the base LCGs with seed $x_0 = y_0 = 1$, plot the sequence $z_n$ using the clock visualization given in class.\n",
    "___"
   ]
  },
  {
   "cell_type": "code",
   "execution_count": 6,
   "metadata": {
    "id": "pLwpyLwZEIHk"
   },
   "outputs": [
    {
     "data": {
      "image/png": "[encoded data removed]",
      "text/plain": [
       "<Figure size 500x500 with 1 Axes>"
      ]
     },
     "metadata": {},
     "output_type": "display_data"
    }
   ],
   "source": [
    "# z_n+1: (x_n) + (y_n) = [(5x_n) mod 16] + [(2y_n) mod 7]\n",
    "\n",
    "# x\n",
    "m_x = 16**2\n",
    "a_x = 5\n",
    "c_x = 0\n",
    "seed = 1\n",
    "\n",
    "x = LCG(n=m_x+1,m=m_x,a=a_x,c=c_x,seed = seed)\n",
    "\n",
    "# y\n",
    "m_y = 7\n",
    "a_y = 2\n",
    "c_y = 0\n",
    "\n",
    "y = LCG(n=m_x+1,m=m_y,a=a_y,c=c_y,seed = seed)\n",
    "\n",
    "# z = (x_n + y_n mod 16)\n",
    "\n",
    "m_z = 16\n",
    "\n",
    "z = (x + y) % 16\n",
    "\n",
    "w = (z + 1)/(m_z+1)\n",
    "\n",
    "\n",
    "fig = plt.figure(figsize=(5,5))\n",
    "\n",
    "plot_clock_face(m_z,fig,annotate = True)\n",
    "plot_clock_path(m_z,w,fig)\n",
    "#plt.axis('equal')\n",
    "plt.axis('off')\n",
    "plt.show()"
   ]
  },
  {
   "cell_type": "markdown",
   "metadata": {
    "id": "W7FAnv8z9iUx"
   },
   "source": [
    "___\n",
    "**(c)** What are the periods of the pseudo-random sequences $x_n, y_n$ and $z_n$?\n",
    "___"
   ]
  },
  {
   "cell_type": "markdown",
   "metadata": {
    "id": "XAWLfsGGMO7X"
   },
   "source": [
    "### Ans.\n",
    "$x_n$ = 4 \n",
    "$y_n$ = 3 \n",
    "$z_n$ = 12"
   ]
  },
  {
   "cell_type": "markdown",
   "metadata": {
    "id": "wmL74RyC9iUz"
   },
   "source": [
    "___\n",
    "___\n",
    "## Question 2: inverting cdfs (25 pts)\n",
    "\n",
    "In class, we defined $F^{-1}(y)$ for a continuous increasing cdf $F(x)$ as the unique $x$ such that $F(x) = y$ (for $y\\in[0,1]$). More generally, for any cdf $F$ we can use the inversion method based on its generalized inverse or *pseudoinverse*:\n",
    "\t$$F^{-1}(y) = \\inf\\{x|F(x)\\geq y\\}$$\n",
    "\t(where $\\inf$ denotes the \\href{https://en.wikipedia.org/wiki/Infimum_and_supremum}{infimum}; if you have not seen this before, treat it as minimum).\n"
   ]
  },
  {
   "cell_type": "markdown",
   "metadata": {
    "id": "k8gt9TWM9iU0"
   },
   "source": [
    "___\n",
    "**(a)** Find the pseudoinverse $F^{-1}(y)$ for the following mixed (discrete/continuous) cdf\n",
    "\t$$F(x)=\n",
    "\t\\begin{cases}\n",
    "\t0 & \\mbox{for $x < 0$}\\\\\n",
    "\tx & \\mbox{for $0 \\leq x < \\frac{1}{2}$}, \\\\\n",
    "\t\\frac{1}{2} & \\mbox{for $\\frac{1}{2}\\leq x < 1$}, \\\\\n",
    "\t1 & \\mbox{for $x\\geq 1$}\n",
    "\t \\end{cases}$$\n",
    "___"
   ]
  },
  {
   "cell_type": "markdown",
   "metadata": {
    "id": "h4Vtj9TBMr6A"
   },
   "source": [
    "### Ans.\n",
    "\n",
    "The pseudoinverse $F^{-1}(y)$ for the above cdf is: \n",
    "\n",
    "$$F^{-1}(y) = \n",
    "\\begin{cases} \n",
    "undefined & \\mbox{for $y < 0$}\\\\\n",
    "y & \\mbox{for $0 \\leq y < \\frac{1}{2}$}, \\\\\n",
    "1 & \\mbox{for $y \\geq \\frac{1}{2}$}\n",
    "\\end{cases}$$"
   ]
  },
  {
   "cell_type": "markdown",
   "metadata": {
    "id": "z5IrvAkx9iU1"
   },
   "source": [
    "___\n",
    "**(b)** Use the above definition to get an inversion algorithm for the $Geometric(p)$ distribution (with pmf $p(k) = p(1-p)^{k-1}\\,\\forall\\,k\\in\\{1,2,3,\\ldots\\}$). Implement this, and generate and plot the histogram of 1000 samples from a $Geometric(0.42)$ distribution.\n",
    "(For this, it may be useful for you to first understand how the [scipy.stats](https://docs.scipy.org/doc/scipy/reference/stats.html) library works, and in particular, how it provides methods to compute various statistics for many different random variables, including the [geometric r.v.](https://docs.scipy.org/doc/scipy/reference/generated/scipy.stats.geom.html#scipy.stats.geom))\n",
    "___"
   ]
  },
  {
   "cell_type": "code",
   "execution_count": 88,
   "metadata": {},
   "outputs": [
    {
     "data": {
      "image/png": "[encoded data removed]",
      "text/plain": [
       "<Figure size 640x480 with 1 Axes>"
      ]
     },
     "metadata": {},
     "output_type": "display_data"
    }
   ],
   "source": [
    "#inverting the cdf --> x = log(base(1-p))(1-y) = (ln(1-y))/(ln(1-p))\n",
    "\n",
    "p = .42\n",
    "inverse = []\n",
    "for i in range(1000):\n",
    "    u = scipy.stats.uniform.rvs()\n",
    "    x = ((np.log(1-u))/(np.log(1-p)))\n",
    "    inverse.append(math.ceil(x))\n",
    "    \n",
    "geo = scipy.stats.geom.rvs(p, size = 1000)\n",
    "geo_bins = np.arange(1, max(geo) + 2) - .5\n",
    "inverse_bins = np.arange(1, max(inverse) + 2) - .5\n",
    "\n",
    "plt.hist(geo, bins = geo_bins, density = True, alpha = 1, label = 'PDF', edgecolor = 'Black')\n",
    "plt.hist(inverse, bins = inverse_bins, label = 'Inverse', alpha = .5)\n",
    "plt.xticks(np.arange(1, max(inverse) + 1))\n",
    "plt.grid(axis = 'y', alpha = .75)\n",
    "plt.title('Geometric PDF and Inverse Algorithm Comparison')\n",
    "plt.legend()\n",
    "plt.show()"
   ]
  },
  {
   "cell_type": "markdown",
   "metadata": {
    "id": "TRn55xOT9iU3"
   },
   "source": [
    "___\n",
    "**(c)** The p.d.f. of the random variable $X$ is given by\n",
    "\t$$\n",
    "\tf(x) =\n",
    "\t\\begin{cases}\n",
    "\t\te^{x-2} & \\text{for }0 \\leq x \\leq 2, \\\\\n",
    "\t\te^{-x} & \\text{for }x > 2, \\\\\n",
    "\t\t0 & \\text{otherwise,}\n",
    "\t\\end{cases}\n",
    "\t$$\n",
    "\tDescribe and implement an inversion algorithm to generate samples of $X$. Generate 1,000 samples and plot a histogram. Compare the histogram and the p.d.f.\n"
   ]
  },
  {
   "cell_type": "markdown",
   "metadata": {
    "id": "dNmGPdu8OaiK"
   },
   "source": [
    "___\n",
    "\n",
    "### Ans."
   ]
  },
  {
   "cell_type": "code",
   "execution_count": 89,
   "metadata": {
    "id": "2bF1VUkGJEpI"
   },
   "outputs": [
    {
     "data": {
      "image/png": "[encoded data removed]",
      "text/plain": [
       "<Figure size 640x480 with 1 Axes>"
      ]
     },
     "metadata": {},
     "output_type": "display_data"
    }
   ],
   "source": [
    "#F^-1 = ln(y*e^2 + 1) 0 <= y <= 1 - e^(-2) \n",
    "        #-ln(1-y)    y > 1 - (e^-2)\n",
    "    \n",
    "#u ~ [0,1]\n",
    "#if u < 1 - e^(-2) --> ln(y*e^2 + 1)\n",
    "#else --> -ln(1-y)\n",
    "\n",
    "p = .42\n",
    "inverse = []\n",
    "for i in range(1000):\n",
    "    u = scipy.stats.uniform.rvs()\n",
    "    if u < 1 - np.exp(-2):\n",
    "        value = np.log(u * np.exp(2) + 1)\n",
    "    else:\n",
    "        value = (-1)*np.log(1 - u)\n",
    "    inverse.append(value)\n",
    "        \n",
    "geo = scipy.stats.geom.rvs(p, size = 1000)\n",
    "geo_bins = np.arange(1, max(geo) + 2) - .5\n",
    "inverse_bins = np.arange(1, max(inverse) + 2) - .5\n",
    "\n",
    "plt.hist(geo, bins = geo_bins, density = True, alpha = 1, label = 'PDF', edgecolor = 'Black')\n",
    "plt.hist(inverse, bins = inverse_bins, label = 'Inverse', alpha = .5)\n",
    "plt.xticks(np.arange(1, max(inverse) + 1))\n",
    "plt.grid(axis = 'y', alpha = .75)\n",
    "plt.title('Geometric PDF and Inverse Algorithm Comparison')\n",
    "plt.legend()\n",
    "plt.show()"
   ]
  },
  {
   "cell_type": "markdown",
   "metadata": {
    "id": "UqMEV_6i9iU4"
   },
   "source": [
    "___\n",
    "___\n",
    "\n",
    "## Question 3: Acceptance-Rejection (25 pts)\n",
    "\n",
    "Let the random variable $X$ have density\n",
    "$$f(x) = \\begin{cases} (5 x^4 + 4x^3 + 3x^2+1)/4  & \\text{ for } 0 \\leq x \\leq 1, \\\\\n",
    "0 & \\text{ otherwise. } \\end{cases}$$"
   ]
  },
  {
   "cell_type": "markdown",
   "metadata": {
    "id": "dNp6yFaQ9iU5"
   },
   "source": [
    "___\n",
    "**(a)** Give an acceptance-rejection algorithm to generate samples of\n",
    "\t$X$.\n",
    "\n",
    "___"
   ]
  },
  {
   "cell_type": "markdown",
   "metadata": {
    "id": "AKnYl0kLLd37"
   },
   "source": [
    "### Ans.\n"
   ]
  },
  {
   "cell_type": "code",
   "execution_count": 43,
   "metadata": {
    "id": "y1c8ExQxLdEB"
   },
   "outputs": [],
   "source": [
    "def pdf(x):\n",
    "    if 0 <= x <= 1:\n",
    "        return((5*x**4 + 4*x**3 + 3*x**2 + 1)/4)\n",
    "    else:\n",
    "        return(0)"
   ]
  },
  {
   "cell_type": "code",
   "execution_count": 45,
   "metadata": {},
   "outputs": [],
   "source": [
    "n = 1000\n",
    "samples = []\n",
    "\n",
    "M = 3.3\n",
    "\n",
    "while len(samples) < n:\n",
    "    u1 = np.random.uniform()\n",
    "    u2 = np.random.uniform()\n",
    "    z1 = u1\n",
    "    z2 = M*u2 \n",
    "    if z2 <= pdf(z1):\n",
    "        samples.append(z1)"
   ]
  },
  {
   "cell_type": "markdown",
   "metadata": {
    "id": "96QbSXGn9iU8"
   },
   "source": [
    "___\n",
    "**(b)** On average, how many samples from the uniform distribution over $[0, 1]$ would your acceptance-rejection algorithm need in order to generate one sample of $X$?\n",
    "___"
   ]
  },
  {
   "cell_type": "markdown",
   "metadata": {
    "id": "w64tpH0bO_Hb"
   },
   "source": [
    "### Ans.\n"
   ]
  },
  {
   "cell_type": "code",
   "execution_count": 48,
   "metadata": {},
   "outputs": [
    {
     "name": "stdout",
     "output_type": "stream",
     "text": [
      "6.632\n"
     ]
    }
   ],
   "source": [
    "num = 1\n",
    "counter = []\n",
    "\n",
    "for i in range(1000):\n",
    "    samples = []\n",
    "    count = 0 \n",
    "    while len(samples) < num: #samples only increases if it's accepted \n",
    "        count += 1 #each time you need to test \n",
    "        u1 = np.random.uniform()\n",
    "        u2 = np.random.uniform()\n",
    "        z1 = u1\n",
    "        z2 = M*u2 \n",
    "        if z2 <= pdf(z1):\n",
    "            samples.append(z1)\n",
    "            counter.append(count) #number of times that we had to test before acceptance\n",
    "            \n",
    "print(2 * np.mean(counter))\n",
    "        "
   ]
  },
  {
   "cell_type": "markdown",
   "metadata": {},
   "source": [
    "By the definitions of the acceptance-rejection method, the expected value of the number of samples of $U[0,1]$ is $2*M*(b-a)$. Given that $M = 3.3$, $b = 1$ and $a = 0$, the expected value is 6.6. The above algorithm (with 1000 simulations) yields a number similar. "
   ]
  },
  {
   "cell_type": "markdown",
   "metadata": {
    "id": "YudPqIiq9iU9"
   },
   "source": [
    "___\n",
    "**(c)** Use your algorithm in (a) to generate 2,500 samples of $X$. Note that this will require more than 2500 uniform random variables.\n",
    "\n",
    "Plot a histogram of your sample   and compare it against the true pdf.\n",
    "___\n"
   ]
  },
  {
   "cell_type": "code",
   "execution_count": 49,
   "metadata": {
    "id": "7-qoF2L_LmIF"
   },
   "outputs": [],
   "source": [
    "#n = number of samples\n",
    "def accept_reject(M, n):\n",
    "    samples = []\n",
    "    while len(samples) < n:\n",
    "        u1 = np.random.uniform()\n",
    "        u2 = np.random.uniform()\n",
    "        z1 = u1 \n",
    "        z2 = M*u2\n",
    "        if z2 <= pdf(z1):\n",
    "            samples.append(z1)\n",
    "            \n",
    "    return(samples)"
   ]
  },
  {
   "cell_type": "code",
   "execution_count": 58,
   "metadata": {},
   "outputs": [
    {
     "data": {
      "image/png": "[encoded data removed]",
      "text/plain": [
       "<Figure size 640x480 with 1 Axes>"
      ]
     },
     "metadata": {},
     "output_type": "display_data"
    }
   ],
   "source": [
    "samples = accept_reject(M = 3.3, n = 2500)\n",
    "plt.hist(samples, bins = 30, density = True, color = 'b', edgecolor = 'black', label = 'Histogram')\n",
    "x = np.linspace(0,1, 101)\n",
    "pdfs = [pdf(value) for value in x]\n",
    "plt.plot(x, pdfs, 'r-', label = 'PDF')\n",
    "plt.xlabel('Values of X')\n",
    "plt.ylabel('Probability Density Function')\n",
    "plt.title('Simulation and PDF Comparison for X')\n",
    "plt.legend()\n",
    "plt.show()"
   ]
  },
  {
   "cell_type": "markdown",
   "metadata": {
    "id": "zI57JDhK9iU_"
   },
   "source": [
    "___\n",
    "___\n",
    "\n",
    "## Question 4: Generalized Acceptance-Rejection (30 pts)\n",
    "\n",
    "We want to generate a $\\mathcal{N}(0,1)$ rv $X$, with pdf\n",
    "$f(x) = \\frac{e^{-x^2/2}}{\\sqrt{2\\pi}} $,\n",
    "using generalized acceptance-rejection."
   ]
  },
  {
   "cell_type": "markdown",
   "metadata": {
    "id": "ycCxosPw9iVA"
   },
   "source": [
    "___\n",
    "\n",
    "**(a)** First, suppose we choose the proposal distribution to be a \\emph{Laplace} (i.e., two-sided Exponential) distribution, which has pdf $g(x) = e^{-|x|}/2$. Describe (and implement) an inversion algorithm to get samples from this distribution.\n",
    "___"
   ]
  },
  {
   "cell_type": "markdown",
   "metadata": {},
   "source": [
    "We will generate samples from the proposed distribution $g(x)$ using the inversion method. The generated samples will later be compared to the true pdf of the proposal distribution for validation. \n",
    "\n",
    "First, calculate the CDF G(x) from the given PDF: $g(x) = \\frac{e^{-|x|}}{2}$\n",
    "\n",
    "CDF: $G(x) = \\int_{-\\inf}^{x} \\frac{e^{-|x|}}{2} \\,dx \\$\n",
    "\n",
    "$ = \\frac{e^{-|x|}}{2}$ from $-\\inf$ to $x$\n",
    "\n",
    "$ 1 - \\frac{e^{-x}}{2}$\n",
    "\n",
    "We invert $G(x)$ to find x as a function of a uniform variable $u$ between $[0,1]$ where\n",
    "$x(u) = G^{-1}(u)$\n",
    "\n",
    "Inverse function $F^{-1}(u)$ is the value of x that corresponds to $G(x) = u$\n",
    "\n",
    "The laplace distribution is not symetric around zero, so the inverse CFD behaves differently based on the generated uniform random variable.\n",
    "\n",
    "When $u < 0.5: F^{-1}(u) = ln(2u))$ \n",
    "\n",
    "When $u \\geq 0.5: F^{-1}(u) = -ln(2-2u))$ \n",
    "\n",
    "To return $x_i$ for each $u_i$, we generate $N$ random samples samples $u_i$ then use $G^{-1}(u_i)$ to take the inversion of each $u_i$"
   ]
  },
  {
   "cell_type": "code",
   "execution_count": 50,
   "metadata": {},
   "outputs": [
    {
     "data": {
      "image/png": "[encoded data removed]",
      "text/plain": [
       "<Figure size 432x288 with 1 Axes>"
      ]
     },
     "metadata": {
      "needs_background": "light"
     },
     "output_type": "display_data"
    }
   ],
   "source": [
    "N = 10000\n",
    "\n",
    "# normal PDF\n",
    "def pdf_normal(x):\n",
    "    return np.exp(-x**2/2)/np.sqrt(2*np.pi)\n",
    "\n",
    "# laplace PDF\n",
    "def pdf_laplace(x):\n",
    "        return np.exp(-np.abs(x))/2\n",
    "\n",
    "    \n",
    "# generate inverse CDF for laplace distribution\n",
    "def inverse_cdf_laplace(u):\n",
    "    if u < 0.5:\n",
    "        return np.log(2*u)\n",
    "    else: \n",
    "        return -np.log(2-2*u)\n",
    "\n",
    "# generate uniform random variables between [0,1]\n",
    "u = np.random.rand(N)\n",
    "\n",
    "# use inversion to get samples from the Laplace distribution\n",
    "samples = [inverse_cdf_laplace(i) for i in u]\n",
    "\n",
    "# plot a historgram of generated samples\n",
    "plt.hist(samples, bins=50, density=True, alpha=0.7, color='b', label='Generated Samples')\n",
    "\n",
    "x = np.linspace(-5,5,1000)\n",
    "g_x = pdf_laplace(x)\n",
    "\n",
    "plt.plot(x,g_x,'r',label='True PDF')\n",
    "plt.xlabel('x')\n",
    "plt.ylabel('PDF')\n",
    "plt.legend\n",
    "plt.title('Generated Samples vs True PDF')\n",
    "plt.show()\n",
    "        \n",
    "    \n",
    "    "
   ]
  },
  {
   "cell_type": "markdown",
   "metadata": {},
   "source": [
    "Now that we have samples from the proposed distribution, we can implement the generalized acceptance-rejection method to generate samples from $f(x)$ using $g(x)$"
   ]
  },
  {
   "cell_type": "markdown",
   "metadata": {
    "id": "w5uME6KO9iVB"
   },
   "source": [
    "___\n",
    "**(b)** Determine the smallest $k$ such that $kg(x)\\geq f(x)\\,\\forall\\,x\\in\\mathbb{R}$. Using this, propose (and implement) an acceptance-rejection algorithm for sampling $X\\sim\\mathcal{N}(0,1)$, and compute the expected number of samples needed for generating each sample.\n",
    "___"
   ]
  },
  {
   "cell_type": "markdown",
   "metadata": {
    "id": "4Y-Qm3x-PbmM"
   },
   "source": [
    "### Ans.\n",
    "\n",
    "$x$ is an increasing function in the CDF $G(x)$\n",
    "\n",
    "$k \\geq \\frac{f(x)}{g(x)} = \\frac{\\frac{e^{-x^2/2}}{\\sqrt{2\\pi}}}{\\frac{e^{-|x|}}{2}}$\n",
    "\n",
    "$k \\geq \\sqrt{\\frac{2e}{\\pi}}e^{\\frac{-(|x|-1)^{2}}{2}}$\n",
    "\n",
    "Minimize k by taking the maximum of $\\frac{f(x)}{g(x)}$\n",
    "\n",
    "By taking the derivative of the exponent, the maximum is at $-x + 1 = 0$\n",
    "\n",
    "Therefore, maximum $\\frac{f(x)}{g(x)}$ at $x=1$\n",
    "\n",
    "$k \\geq \\sqrt{\\frac{2e}{\\pi}}$\n",
    "\n",
    "Acceptance - Rejection Algorithm: \n",
    "\n",
    "1. Generate a random sample U from a uniform distribution over [0,1]\n",
    "2. Generate a random sample Y from the Laplace distribution\n",
    "3. Calculate the acceptance threshold: \n",
    "   Accept x with probability $\\frac{f(x)}{k * g(x)}$\n",
    "4. Count number of trials\n",
    "5. Accept or reject the sample"
   ]
  },
  {
   "cell_type": "code",
   "execution_count": 140,
   "metadata": {},
   "outputs": [
    {
     "name": "stdout",
     "output_type": "stream",
     "text": [
      "Expected number of samples needed to generate each sample:  1.348\n"
     ]
    }
   ],
   "source": [
    "k = np.sqrt(2*np.e/np.pi)\n",
    "N = 1000\n",
    "samples = []\n",
    "count = 0\n",
    "trial_count = []\n",
    "total_count = 0\n",
    "\n",
    "# normal PDF: f(x)\n",
    "def pdf_normal(x):\n",
    "    return np.exp(-x**2/2)/np.sqrt(2*np.pi)\n",
    "\n",
    "# laplace PDF: g(x)\n",
    "def pdf_laplace(x):\n",
    "        return np.exp(-np.abs(x))/2\n",
    "\n",
    "# Acceptance Rejection Sampling\n",
    "while len(samples) < N:\n",
    "    \n",
    "    # 1. random sample U from uniform distribution\n",
    "    U = np.random.rand()\n",
    "    \n",
    "    # 2. random sample Y from laplace distribution\n",
    "    Y = np.random.laplace()\n",
    "\n",
    "    # 3. Acceptance threshold:\n",
    "    threshold = pdf_normal(Y) / (k*pdf_laplace(Y))\n",
    "    \n",
    "    # 4. count trial\n",
    "    count += 1\n",
    "    total_count += 1\n",
    "    \n",
    "    # 5. Accept or reject sample\n",
    "    if U <= threshold:\n",
    "        # accepted\n",
    "        samples.append(Y)\n",
    "        trial_count.append(count)\n",
    "        count = 0\n",
    "            \n",
    "\n",
    "# compute the average number of trials per sample \n",
    "mean = np.mean(trial_count)\n",
    "print(\"Expected number of samples needed to generate each sample: \", mean)"
   ]
  },
  {
   "cell_type": "markdown",
   "metadata": {
    "id": "8Uoi08eu9iVD"
   },
   "source": [
    "___\n",
    "**(c)** Generate $1000$ samples from your method in part (b), and plot the histogram of the samples. Also report the average and 95\\% CI for the number of $U[0,1]$ samples needed to generate the $1000$ samples.\n",
    "___"
   ]
  },
  {
   "cell_type": "code",
   "execution_count": 161,
   "metadata": {
    "id": "5qVDE0RTDMIZ",
    "scrolled": true
   },
   "outputs": [
    {
     "name": "stdout",
     "output_type": "stream",
     "text": [
      "Average number of samples to generate the 1000 samples:  1315.51\n"
     ]
    }
   ],
   "source": [
    "k = np.sqrt(2*np.e/np.pi)\n",
    "N = 1000\n",
    "samples = []\n",
    "alpha = 0.95\n",
    "total_count = 0\n",
    "num_samples = []\n",
    "\n",
    "\n",
    "# normal PDF\n",
    "def pdf_normal(x):\n",
    "    return np.exp(-x**2/2)/np.sqrt(2*np.pi)\n",
    "\n",
    "# laplace PDF\n",
    "def pdf_laplace(x):\n",
    "        return np.exp(-np.abs(x))/2\n",
    "\n",
    "# Acceptance Rejection Sampling\n",
    "for i in range(100): \n",
    "    \n",
    "    total_count = 0\n",
    "    samples = []\n",
    "    \n",
    "    while len(samples) < N:\n",
    "        \n",
    "        # 1. random sample U from uniform distribution\n",
    "        U = np.random.rand()\n",
    "\n",
    "        # 2. random sample Y from laplace distribution\n",
    "        Y = np.random.laplace()\n",
    "\n",
    "        # 3. Acceptance threshold:\n",
    "        threshold = pdf_normal(Y) / (k*pdf_laplace(Y))\n",
    "\n",
    "        # 4. count trial\n",
    "        total_count += 1\n",
    "\n",
    "        # 5. Accept or reject sample\n",
    "        if U <= threshold:\n",
    "            # accepted\n",
    "            samples.append(Y)\n",
    "            count = 0\n",
    "           \n",
    "    num_samples.append(total_count)\n",
    "    \n",
    "# compute the average number of trials per sample\n",
    "mean = np.mean(num_samples)\n",
    "print(\"Average number of samples to generate the 1000 samples: \", mean)"
   ]
  },
  {
   "cell_type": "code",
   "execution_count": 166,
   "metadata": {},
   "outputs": [
    {
     "name": "stdout",
     "output_type": "stream",
     "text": [
      "95% Confidence Interval: [ 1311.3845653804735 , 1319.6354346195264 ]\n"
     ]
    },
    {
     "data": {
      "text/plain": [
       "<matplotlib.patches.Polygon at 0x7fbf3bebcdc0>"
      ]
     },
     "execution_count": 166,
     "metadata": {},
     "output_type": "execute_result"
    },
    {
     "data": {
      "image/png": "[encoded data removed]",
      "text/plain": [
       "<Figure size 432x288 with 1 Axes>"
      ]
     },
     "metadata": {
      "needs_background": "light"
     },
     "output_type": "display_data"
    }
   ],
   "source": [
    "# calculate the z-score for the given confidence level alpha\n",
    "z = scipy.stats.norm.ppf(0.5 + alpha / 2.0)\n",
    "\n",
    "# calculate the half-width of the CI\n",
    "half_width_alpha = z * np.std(num_samples, ddof=1) / np.sqrt(len(num_samples))\n",
    "\n",
    "# calculate the upper and lower bounds of the CI\n",
    "ucb = mean + half_width_alpha\n",
    "lcb = mean - half_width_alpha\n",
    "print(\"95% Confidence Interval: [\", lcb, \",\", ucb, \"]\")\n",
    "\n",
    "# Plot the confidence interval as a yellow shaded region\n",
    "# plot a historgram of generated samples\n",
    "plt.hist(num_samples, bins=50, density=True, alpha=0.7, color='b', label='Generated Samples')\n",
    "plt.axvspan(lcb, ucb, alpha=0.95, color='y', label=f'{int(alpha*100)}% confidence interval')"
   ]
  },
  {
   "cell_type": "markdown",
   "metadata": {
    "id": "s7pvcQl7pgbx"
   },
   "source": [
    "___\n",
    "**(d)** Now, suppose instead we choose the proposal distribution to be a Cauchy  distribution with pdf $g(x) = \\frac{1}{\\pi(1+x^2)}$. Describe and implement an inversion algorithm to get samples from this distribution, and plot the histogram of 1000 samples from this distribution.\n",
    "___"
   ]
  },
  {
   "cell_type": "markdown",
   "metadata": {},
   "source": [
    "We will generate samples from the proposed distribution $g(x)$ using the inversion method. The generated samples will later be compared to the true pdf of the proposal distribution for validation. \n",
    "\n",
    "First, calculate the CDF G(x) from the given PDF: $g(x) = \\frac{1}{\\pi(1+x^2)}$\n",
    "\n",
    "CDF: $G(x) = \\int_{-\\inf}^{x} \\frac{1}{\\pi(1+x^2)} \\,dx \\$\n",
    "\n",
    "$ G(x) = \\frac{1}{\\pi} arctan(x) + \\frac{1}{2}$\n",
    "\n",
    "\n",
    "\n",
    "We invert $G(x)$ to find x as a function of a uniform variable $u$ between $[0,1]$ where\n",
    "$x(u) = G^{-1}(u)$\n",
    "\n",
    "Inverse function $F^{-1}(u)$ is the value of x that corresponds to $G(x) = u$\n",
    "\n",
    "$F^{-1}(u) = tan(\\pi(u-\\frac{1}{2}))$\n",
    "\n",
    "To return $x_i$ for each $u_i$, we generate $N$ random samples samples $u_i$ then use $G^{-1}(u_i)$ to take the inversion of each $u_i$"
   ]
  },
  {
   "cell_type": "code",
   "execution_count": 190,
   "metadata": {
    "id": "XepRuz8MpqoG"
   },
   "outputs": [
    {
     "data": {
      "image/png": "[encoded data removed]",
      "text/plain": [
       "<Figure size 432x288 with 1 Axes>"
      ]
     },
     "metadata": {
      "needs_background": "light"
     },
     "output_type": "display_data"
    }
   ],
   "source": [
    "N = 10000\n",
    "\n",
    "# normal PDF: f(x)\n",
    "def pdf_normal(x):\n",
    "    return np.exp(-x**2/2)/np.sqrt(2*np.pi)\n",
    "\n",
    "# cauchy PDF: g(x)\n",
    "def pdf_cauchy(x):\n",
    "    return 1/(np.pi*(1+x**2))\n",
    "\n",
    "    \n",
    "# generate inverse CDF for laplace distribution\n",
    "def inverse_cdf_cauchy(u):\n",
    "    return np.tan(np.pi*(u-0.5))\n",
    "\n",
    "# generate uniform random variables between [0,1]\n",
    "u = np.random.rand(N)\n",
    "\n",
    "# use inversion to get samples from the cauchy distribution\n",
    "samples = inverse_cdf_cauchy(u)\n",
    "\n",
    "# plot a historgram of generated samples\n",
    "plt.hist(samples, bins=10, density=True,  alpha=0.7, color='b', label='Generated Samples')\n",
    "\n",
    "#x = np.linspace(-10,10,1000)\n",
    "g_x = pdf_cauchy(x)\n",
    "\n",
    "plt.plot(g_x,'r',label='True PDF')\n",
    "plt.xlabel('x')\n",
    "plt.ylabel('PDF')\n",
    "plt.legend\n",
    "plt.title('Generated Samples vs True PDF')\n",
    "plt.show()"
   ]
  },
  {
   "cell_type": "code",
   "execution_count": 184,
   "metadata": {},
   "outputs": [
    {
     "data": {
      "text/plain": [
       "<function matplotlib.pyplot.show(close=None, block=None)>"
      ]
     },
     "execution_count": 184,
     "metadata": {},
     "output_type": "execute_result"
    },
    {
     "data": {
      "image/png": "[encoded data removed]",
      "text/plain": [
       "<Figure size 432x288 with 1 Axes>"
      ]
     },
     "metadata": {
      "needs_background": "light"
     },
     "output_type": "display_data"
    }
   ],
   "source": [
    "plt.plot(g_x)\n",
    "plt.title('True Cauchy PDF')\n",
    "plt.show"
   ]
  },
  {
   "cell_type": "markdown",
   "metadata": {
    "id": "lC7VSz_n9iVF"
   },
   "source": [
    "___\n",
    "**(e)** Repeat parts $(b)$ and $(c)$ for this proposal distribution.\n",
    "___"
   ]
  },
  {
   "cell_type": "markdown",
   "metadata": {},
   "source": [
    "$x$ is an increasing function in the CDF $G(x)$\n",
    "\n",
    "$k \\geq \\frac{f(x)}{g(x)} = \\frac{\\frac{e^{-x^2/2}}{\\sqrt{2\\pi}}}{\\frac{1}{\\pi(1+x^2)}}$\n",
    "\n",
    "Simplifies to $k \\geq \\frac{1}{\\sqrt{2\\pi}}$\n"
   ]
  },
  {
   "cell_type": "markdown",
   "metadata": {
    "id": "vFu541LlPzQ2"
   },
   "source": [
    "### Ans."
   ]
  },
  {
   "cell_type": "code",
   "execution_count": 197,
   "metadata": {
    "id": "uzJE8B1ZsWoV"
   },
   "outputs": [
    {
     "name": "stdout",
     "output_type": "stream",
     "text": [
      "Average number of samples to generate the 1000 samples:  1266.62\n"
     ]
    }
   ],
   "source": [
    "k = 1/np.sqrt(2*np.pi)\n",
    "N = 1000\n",
    "samples = []\n",
    "alpha = 0.95\n",
    "total_count = 0\n",
    "num_samples = []\n",
    "\n",
    "\n",
    "# normal PDF\n",
    "def pdf_normal(x):\n",
    "    return np.exp(-x**2/2)/np.sqrt(2*np.pi)\n",
    "\n",
    "# cauchy PDF\n",
    "def pdf_cauchy(x):\n",
    "    return 1/(np.pi*(1+x**2))\n",
    "\n",
    "# Acceptance Rejection Sampling\n",
    "for i in range(100): \n",
    "    \n",
    "    total_count = 0\n",
    "    samples = []\n",
    "    \n",
    "    while len(samples) < N:\n",
    "        \n",
    "        # 1. random sample U from uniform distribution\n",
    "        U = np.random.rand()\n",
    "\n",
    "        # 2. random sample Y from cauchy distribution\n",
    "        Y = np.random.standard_cauchy()\n",
    "\n",
    "        # 3. Acceptance threshold:\n",
    "        threshold = pdf_normal(Y) / (k*pdf_cauchy(Y))\n",
    "\n",
    "        # 4. count trial\n",
    "        total_count += 1\n",
    "\n",
    "        # 5. Accept or reject sample\n",
    "        if U <= threshold:\n",
    "            # accepted\n",
    "            samples.append(Y)\n",
    "            count = 0\n",
    "           \n",
    "    num_samples.append(total_count)\n",
    "    \n",
    "# compute the average number of trials per sample\n",
    "mean = np.mean(num_samples)\n",
    "print(\"Average number of samples to generate the 1000 samples: \", mean)"
   ]
  },
  {
   "cell_type": "code",
   "execution_count": 198,
   "metadata": {},
   "outputs": [
    {
     "name": "stdout",
     "output_type": "stream",
     "text": [
      "95% Confidence Interval: [ 1262.9422772564023 , 1270.2977227435974 ]\n"
     ]
    },
    {
     "data": {
      "text/plain": [
       "<matplotlib.patches.Polygon at 0x7fbf414f8820>"
      ]
     },
     "execution_count": 198,
     "metadata": {},
     "output_type": "execute_result"
    },
    {
     "data": {
      "image/png": "[encoded data removed]",
      "text/plain": [
       "<Figure size 432x288 with 1 Axes>"
      ]
     },
     "metadata": {
      "needs_background": "light"
     },
     "output_type": "display_data"
    }
   ],
   "source": [
    "# calculate the z-score for the given confidence level alpha\n",
    "z = scipy.stats.norm.ppf(0.5 + alpha / 2.0)\n",
    "\n",
    "# calculate the half-width of the CI\n",
    "half_width_alpha = z * np.std(num_samples, ddof=1) / np.sqrt(len(num_samples))\n",
    "\n",
    "# calculate the upper and lower bounds of the CI\n",
    "ucb = mean + half_width_alpha\n",
    "lcb = mean - half_width_alpha\n",
    "print(\"95% Confidence Interval: [\", lcb, \",\", ucb, \"]\")\n",
    "\n",
    "# Plot the confidence interval as a yellow shaded region\n",
    "# plot a historgram of generated samples\n",
    "plt.hist(num_samples, bins=50, density=True, alpha=0.7, color='b', label='Generated Samples')\n",
    "plt.axvspan(lcb, ucb, alpha=0.95, color='y', label=f'{int(alpha*100)}% confidence interval')"
   ]
  }
 ],
 "metadata": {
  "colab": {
   "provenance": []
  },
  "kernelspec": {
   "display_name": "Python 3 (ipykernel)",
   "language": "python",
   "name": "python3"
  },
  "language_info": {
   "codemirror_mode": {
    "name": "ipython",
    "version": 3
   },
   "file_extension": ".py",
   "mimetype": "text/x-python",
   "name": "python",
   "nbconvert_exporter": "python",
   "pygments_lexer": "ipython3",
   "version": "3.9.13"
  }
 },
 "nbformat": 4,
 "nbformat_minor": 1
}
